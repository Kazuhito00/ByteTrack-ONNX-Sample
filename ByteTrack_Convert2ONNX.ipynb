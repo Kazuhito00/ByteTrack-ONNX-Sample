{
  "nbformat": 4,
  "nbformat_minor": 0,
  "metadata": {
    "colab": {
      "name": "ByteTrack-Convert2ONNX.ipynb",
      "provenance": [],
      "collapsed_sections": []
    },
    "kernelspec": {
      "name": "python3",
      "display_name": "Python 3"
    },
    "language_info": {
      "name": "python"
    }
  },
  "cells": [
    {
      "cell_type": "markdown",
      "metadata": {
        "id": "h7ZxXiORz5xD"
      },
      "source": [
        "# ByteTrack リポジトリクローン"
      ]
    },
    {
      "cell_type": "code",
      "metadata": {
        "colab": {
          "base_uri": "https://localhost:8080/"
        },
        "id": "ldhQVvDGz2Aa",
        "outputId": "65d61468-fd80-40fe-d212-c36c9e332e62"
      },
      "source": [
        "!git clone https://github.com/ifzhang/ByteTrack"
      ],
      "execution_count": 1,
      "outputs": [
        {
          "output_type": "stream",
          "name": "stdout",
          "text": [
            "Cloning into 'ByteTrack'...\n",
            "remote: Enumerating objects: 1857, done.\u001b[K\n",
            "remote: Counting objects: 100% (1171/1171), done.\u001b[K\n",
            "remote: Compressing objects: 100% (530/530), done.\u001b[K\n",
            "remote: Total 1857 (delta 666), reused 1080 (delta 613), pack-reused 686\u001b[K\n",
            "Receiving objects: 100% (1857/1857), 78.15 MiB | 26.27 MiB/s, done.\n",
            "Resolving deltas: 100% (1040/1040), done.\n"
          ]
        }
      ]
    },
    {
      "cell_type": "code",
      "metadata": {
        "colab": {
          "base_uri": "https://localhost:8080/"
        },
        "id": "bZWU7zk00Aix",
        "outputId": "d7ef096d-d4be-442b-c4b3-6e466b93ab53"
      },
      "source": [
        "%cd ByteTrack"
      ],
      "execution_count": 2,
      "outputs": [
        {
          "output_type": "stream",
          "name": "stdout",
          "text": [
            "/content/ByteTrack\n"
          ]
        }
      ]
    },
    {
      "cell_type": "code",
      "metadata": {
        "id": "L-eeDkfQ05jM"
      },
      "source": [
        "!mkdir pretrained"
      ],
      "execution_count": 3,
      "outputs": []
    },
    {
      "cell_type": "markdown",
      "metadata": {
        "id": "XWCWW-rF4l-X"
      },
      "source": [
        "# 訓練済みモデルダウンロード"
      ]
    },
    {
      "cell_type": "code",
      "metadata": {
        "colab": {
          "base_uri": "https://localhost:8080/",
          "height": 375
        },
        "id": "JDw91Szr083y",
        "outputId": "dc228724-78c0-4c11-8148-f1b1859029c1"
      },
      "source": [
        "import gdown\n",
        "\n",
        "# bytetrack_s_mot17\n",
        "gdown.download('https://drive.google.com/uc?id=1uSmhXzyV1Zvb4TJJCzpsZOIcw7CCJLxj', 'bytetrack_s_mot17.pth.tar', quiet=False)\n",
        "# bytetrack_m_mot17 \n",
        "gdown.download('https://drive.google.com/uc?id=11Zb0NN_Uu7JwUd9e6Nk8o2_EUfxWqsun', 'bytetrack_m_mot17.pth.tar', quiet=False)\n",
        "# bytetrack_l_mot17\n",
        "gdown.download('https://drive.google.com/uc?id=1XwfUuCBF4IgWBWK2H7oOhQgEj9Mrb3rz', 'bytetrack_l_mot17.pth.tar', quiet=False)\n",
        "# bytetrack_x_mot17\n",
        "gdown.download('https://drive.google.com/uc?id=1P4mY0Yyd3PPTybgZkjMYhFri88nTmJX5', 'bytetrack_x_mot17.pth.tar', quiet=False)\n",
        "\n",
        "# bytetrack_x_mot20\n",
        "gdown.download('https://drive.google.com/uc?id=1HX2_JpMOjOIj1Z9rJjoet9XNy_cCAs5U', 'bytetrack_x_mot20.pth.tar', quiet=False)"
      ],
      "execution_count": 4,
      "outputs": [
        {
          "output_type": "stream",
          "name": "stderr",
          "text": [
            "Downloading...\n",
            "From: https://drive.google.com/uc?id=1uSmhXzyV1Zvb4TJJCzpsZOIcw7CCJLxj\n",
            "To: /content/ByteTrack/bytetrack_s_mot17.pth.tar\n",
            "100%|██████████| 71.8M/71.8M [00:00<00:00, 126MB/s]\n",
            "Downloading...\n",
            "From: https://drive.google.com/uc?id=11Zb0NN_Uu7JwUd9e6Nk8o2_EUfxWqsun\n",
            "To: /content/ByteTrack/bytetrack_m_mot17.pth.tar\n",
            "100%|██████████| 203M/203M [00:01<00:00, 163MB/s]\n",
            "Downloading...\n",
            "From: https://drive.google.com/uc?id=1XwfUuCBF4IgWBWK2H7oOhQgEj9Mrb3rz\n",
            "To: /content/ByteTrack/bytetrack_l_mot17.pth.tar\n",
            "100%|██████████| 434M/434M [00:02<00:00, 154MB/s]\n",
            "Downloading...\n",
            "From: https://drive.google.com/uc?id=1P4mY0Yyd3PPTybgZkjMYhFri88nTmJX5\n",
            "To: /content/ByteTrack/bytetrack_x_mot17.pth.tar\n",
            "100%|██████████| 793M/793M [00:06<00:00, 127MB/s]\n",
            "Downloading...\n",
            "From: https://drive.google.com/uc?id=1HX2_JpMOjOIj1Z9rJjoet9XNy_cCAs5U\n",
            "To: /content/ByteTrack/bytetrack_x_mot20.pth.tar\n",
            "100%|██████████| 793M/793M [00:12<00:00, 62.2MB/s]\n"
          ]
        },
        {
          "output_type": "execute_result",
          "data": {
            "application/vnd.google.colaboratory.intrinsic+json": {
              "type": "string"
            },
            "text/plain": [
              "'bytetrack_x_mot20.pth.tar'"
            ]
          },
          "metadata": {},
          "execution_count": 4
        }
      ]
    },
    {
      "cell_type": "code",
      "metadata": {
        "id": "HNInyvrk1X68"
      },
      "source": [
        "!mv bytetrack_s_mot17.pth.tar pretrained\n",
        "!mv bytetrack_m_mot17.pth.tar pretrained\n",
        "!mv bytetrack_l_mot17.pth.tar pretrained\n",
        "!mv bytetrack_x_mot17.pth.tar pretrained\n",
        "!mv bytetrack_x_mot20.pth.tar pretrained"
      ],
      "execution_count": 5,
      "outputs": []
    },
    {
      "cell_type": "markdown",
      "metadata": {
        "id": "_Eqotubg4te8"
      },
      "source": [
        "# 必要パッケージインストール"
      ]
    },
    {
      "cell_type": "code",
      "metadata": {
        "colab": {
          "base_uri": "https://localhost:8080/"
        },
        "id": "V8sgVre62vSp",
        "outputId": "1ea02318-668e-494e-e43a-c98312e0e884"
      },
      "source": [
        "!pip install loguru\n",
        "!pip install thop\n",
        "!pip install onnx\n",
        "!pip install onnx-simplifier"
      ],
      "execution_count": 6,
      "outputs": [
        {
          "output_type": "stream",
          "name": "stdout",
          "text": [
            "Collecting loguru\n",
            "  Downloading loguru-0.5.3-py3-none-any.whl (57 kB)\n",
            "\u001b[?25l\r\u001b[K     |█████▊                          | 10 kB 23.5 MB/s eta 0:00:01\r\u001b[K     |███████████▌                    | 20 kB 10.0 MB/s eta 0:00:01\r\u001b[K     |█████████████████▏              | 30 kB 8.1 MB/s eta 0:00:01\r\u001b[K     |███████████████████████         | 40 kB 7.5 MB/s eta 0:00:01\r\u001b[K     |████████████████████████████▋   | 51 kB 4.2 MB/s eta 0:00:01\r\u001b[K     |████████████████████████████████| 57 kB 2.5 MB/s \n",
            "\u001b[?25hInstalling collected packages: loguru\n",
            "Successfully installed loguru-0.5.3\n",
            "Collecting thop\n",
            "  Downloading thop-0.0.31.post2005241907-py3-none-any.whl (8.7 kB)\n",
            "Requirement already satisfied: torch>=1.0.0 in /usr/local/lib/python3.7/dist-packages (from thop) (1.10.0+cu111)\n",
            "Requirement already satisfied: typing-extensions in /usr/local/lib/python3.7/dist-packages (from torch>=1.0.0->thop) (3.10.0.2)\n",
            "Installing collected packages: thop\n",
            "Successfully installed thop-0.0.31.post2005241907\n",
            "Collecting onnx\n",
            "  Downloading onnx-1.10.2-cp37-cp37m-manylinux_2_12_x86_64.manylinux2010_x86_64.whl (12.7 MB)\n",
            "\u001b[K     |████████████████████████████████| 12.7 MB 4.3 MB/s \n",
            "\u001b[?25hRequirement already satisfied: numpy>=1.16.6 in /usr/local/lib/python3.7/dist-packages (from onnx) (1.19.5)\n",
            "Requirement already satisfied: six in /usr/local/lib/python3.7/dist-packages (from onnx) (1.15.0)\n",
            "Requirement already satisfied: protobuf in /usr/local/lib/python3.7/dist-packages (from onnx) (3.17.3)\n",
            "Requirement already satisfied: typing-extensions>=3.6.2.1 in /usr/local/lib/python3.7/dist-packages (from onnx) (3.10.0.2)\n",
            "Installing collected packages: onnx\n",
            "Successfully installed onnx-1.10.2\n",
            "Collecting onnx-simplifier\n",
            "  Downloading onnx-simplifier-0.3.6.tar.gz (13 kB)\n",
            "Requirement already satisfied: onnx in /usr/local/lib/python3.7/dist-packages (from onnx-simplifier) (1.10.2)\n",
            "Collecting onnxoptimizer>=0.2.5\n",
            "  Downloading onnxoptimizer-0.2.6-cp37-cp37m-manylinux2014_x86_64.whl (466 kB)\n",
            "\u001b[K     |████████████████████████████████| 466 kB 4.2 MB/s \n",
            "\u001b[?25hCollecting onnxruntime>=1.6.0\n",
            "  Downloading onnxruntime-1.9.0-cp37-cp37m-manylinux_2_17_x86_64.manylinux2014_x86_64.whl (4.8 MB)\n",
            "\u001b[K     |████████████████████████████████| 4.8 MB 32.7 MB/s \n",
            "\u001b[?25hRequirement already satisfied: protobuf>=3.7.0 in /usr/local/lib/python3.7/dist-packages (from onnx-simplifier) (3.17.3)\n",
            "Requirement already satisfied: numpy>=1.16.6 in /usr/local/lib/python3.7/dist-packages (from onnxruntime>=1.6.0->onnx-simplifier) (1.19.5)\n",
            "Requirement already satisfied: flatbuffers in /usr/local/lib/python3.7/dist-packages (from onnxruntime>=1.6.0->onnx-simplifier) (2.0)\n",
            "Requirement already satisfied: six>=1.9 in /usr/local/lib/python3.7/dist-packages (from protobuf>=3.7.0->onnx-simplifier) (1.15.0)\n",
            "Requirement already satisfied: typing-extensions>=3.6.2.1 in /usr/local/lib/python3.7/dist-packages (from onnx->onnx-simplifier) (3.10.0.2)\n",
            "Building wheels for collected packages: onnx-simplifier\n",
            "  Building wheel for onnx-simplifier (setup.py) ... \u001b[?25l\u001b[?25hdone\n",
            "  Created wheel for onnx-simplifier: filename=onnx_simplifier-0.3.6-py3-none-any.whl size=12873 sha256=486587eb3cf7d3fbf4358732c9239be2ed04fe9e6d58de51c5f93a96bd45bfb2\n",
            "  Stored in directory: /root/.cache/pip/wheels/0c/47/80/8eb21098e22c19d60b1c14021ee67442b4ad2d7991fdad46ba\n",
            "Successfully built onnx-simplifier\n",
            "Installing collected packages: onnxruntime, onnxoptimizer, onnx-simplifier\n",
            "Successfully installed onnx-simplifier-0.3.6 onnxoptimizer-0.2.6 onnxruntime-1.9.0\n"
          ]
        }
      ]
    },
    {
      "cell_type": "markdown",
      "metadata": {
        "id": "c_VaJ7x_4xRf"
      },
      "source": [
        "# ONNXエクスポート"
      ]
    },
    {
      "cell_type": "code",
      "metadata": {
        "id": "IoyLhN-v3wtN"
      },
      "source": [
        "!cp tools/export_onnx.py ./"
      ],
      "execution_count": 7,
      "outputs": []
    },
    {
      "cell_type": "code",
      "metadata": {
        "colab": {
          "base_uri": "https://localhost:8080/"
        },
        "id": "AoWy7DGg0La7",
        "outputId": "d78f03bb-7e19-4d6c-f2db-8eeb981d31f7"
      },
      "source": [
        "!python export_onnx.py \\\n",
        "        --output-name bytetrack_s.onnx \\\n",
        "        -f exps/example/mot/yolox_s_mix_det.py \\\n",
        "        -c pretrained/bytetrack_s_mot17.pth.tar"
      ],
      "execution_count": 8,
      "outputs": [
        {
          "output_type": "stream",
          "name": "stdout",
          "text": [
            "\u001b[32m2021-11-18 02:34:16.311\u001b[0m | \u001b[1mINFO    \u001b[0m | \u001b[36m__main__\u001b[0m:\u001b[36mmain\u001b[0m:\u001b[36m52\u001b[0m - \u001b[1margs value: Namespace(ckpt='pretrained/bytetrack_s_mot17.pth.tar', exp_file='exps/example/mot/yolox_s_mix_det.py', experiment_name=None, input='images', name=None, no_onnxsim=False, opset=11, opts=[], output='output', output_name='bytetrack_s.onnx')\u001b[0m\n",
            "\u001b[32m2021-11-18 02:34:17.162\u001b[0m | \u001b[1mINFO    \u001b[0m | \u001b[36m__main__\u001b[0m:\u001b[36mmain\u001b[0m:\u001b[36m76\u001b[0m - \u001b[1mloading checkpoint done.\u001b[0m\n",
            "\u001b[32m2021-11-18 02:34:26.008\u001b[0m | \u001b[1mINFO    \u001b[0m | \u001b[36m__main__\u001b[0m:\u001b[36mmain\u001b[0m:\u001b[36m86\u001b[0m - \u001b[1mgenerated onnx model named bytetrack_s.onnx\u001b[0m\n",
            "\u001b[32m2021-11-18 02:34:29.160\u001b[0m | \u001b[1mINFO    \u001b[0m | \u001b[36m__main__\u001b[0m:\u001b[36mmain\u001b[0m:\u001b[36m98\u001b[0m - \u001b[1mgenerated simplified onnx model named bytetrack_s.onnx\u001b[0m\n"
          ]
        }
      ]
    }
  ]
}